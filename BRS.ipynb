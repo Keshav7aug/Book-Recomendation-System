{
 "cells": [
  {
   "cell_type": "code",
   "execution_count": 52,
   "metadata": {},
   "outputs": [],
   "source": [
    "import pandas as pd \n",
    "import numpy as np\n",
    "from sklearn.feature_extraction.text import CountVectorizer\n",
    "from sklearn.metrics.pairwise import cosine_similarity\n",
    "count = CountVectorizer()"
   ]
  },
  {
   "cell_type": "code",
   "execution_count": 53,
   "metadata": {},
   "outputs": [],
   "source": [
    "df1=pd.read_csv('books_cleaned.csv')"
   ]
  },
  {
   "cell_type": "code",
   "execution_count": 69,
   "metadata": {},
   "outputs": [
    {
     "data": {
      "text/html": [
       "<div>\n",
       "<style scoped>\n",
       "    .dataframe tbody tr th:only-of-type {\n",
       "        vertical-align: middle;\n",
       "    }\n",
       "\n",
       "    .dataframe tbody tr th {\n",
       "        vertical-align: top;\n",
       "    }\n",
       "\n",
       "    .dataframe thead th {\n",
       "        text-align: right;\n",
       "    }\n",
       "</style>\n",
       "<table border=\"1\" class=\"dataframe\">\n",
       "  <thead>\n",
       "    <tr style=\"text-align: right;\">\n",
       "      <th></th>\n",
       "      <th>book_id</th>\n",
       "      <th>isbn13</th>\n",
       "      <th>original_publication_year</th>\n",
       "      <th>average_rating</th>\n",
       "      <th>ratings_count</th>\n",
       "      <th>score</th>\n",
       "    </tr>\n",
       "  </thead>\n",
       "  <tbody>\n",
       "    <tr>\n",
       "      <th>count</th>\n",
       "      <td>7649.000000</td>\n",
       "      <td>7.649000e+03</td>\n",
       "      <td>7649.000000</td>\n",
       "      <td>7649.000000</td>\n",
       "      <td>7.649000e+03</td>\n",
       "      <td>7649.000000</td>\n",
       "    </tr>\n",
       "    <tr>\n",
       "      <th>mean</th>\n",
       "      <td>4707.302915</td>\n",
       "      <td>9.774524e+12</td>\n",
       "      <td>1990.129167</td>\n",
       "      <td>3.994470</td>\n",
       "      <td>6.200599e+04</td>\n",
       "      <td>3.997803</td>\n",
       "    </tr>\n",
       "    <tr>\n",
       "      <th>std</th>\n",
       "      <td>2890.277089</td>\n",
       "      <td>2.429361e+11</td>\n",
       "      <td>46.225576</td>\n",
       "      <td>0.250833</td>\n",
       "      <td>1.772387e+05</td>\n",
       "      <td>0.174395</td>\n",
       "    </tr>\n",
       "    <tr>\n",
       "      <th>min</th>\n",
       "      <td>1.000000</td>\n",
       "      <td>1.951703e+08</td>\n",
       "      <td>1308.000000</td>\n",
       "      <td>2.470000</td>\n",
       "      <td>2.773000e+03</td>\n",
       "      <td>2.790401</td>\n",
       "    </tr>\n",
       "    <tr>\n",
       "      <th>25%</th>\n",
       "      <td>2161.000000</td>\n",
       "      <td>9.780316e+12</td>\n",
       "      <td>1990.000000</td>\n",
       "      <td>3.840000</td>\n",
       "      <td>1.432700e+04</td>\n",
       "      <td>3.894867</td>\n",
       "    </tr>\n",
       "    <tr>\n",
       "      <th>50%</th>\n",
       "      <td>4582.000000</td>\n",
       "      <td>9.780451e+12</td>\n",
       "      <td>2004.000000</td>\n",
       "      <td>4.010000</td>\n",
       "      <td>2.302300e+04</td>\n",
       "      <td>4.004401</td>\n",
       "    </tr>\n",
       "    <tr>\n",
       "      <th>75%</th>\n",
       "      <td>7154.000000</td>\n",
       "      <td>9.780812e+12</td>\n",
       "      <td>2010.000000</td>\n",
       "      <td>4.170000</td>\n",
       "      <td>4.673100e+04</td>\n",
       "      <td>4.111017</td>\n",
       "    </tr>\n",
       "    <tr>\n",
       "      <th>max</th>\n",
       "      <td>9999.000000</td>\n",
       "      <td>9.790008e+12</td>\n",
       "      <td>2017.000000</td>\n",
       "      <td>4.820000</td>\n",
       "      <td>4.780653e+06</td>\n",
       "      <td>4.699789</td>\n",
       "    </tr>\n",
       "  </tbody>\n",
       "</table>\n",
       "</div>"
      ],
      "text/plain": [
       "           book_id        isbn13  original_publication_year  average_rating  \\\n",
       "count  7649.000000  7.649000e+03                7649.000000     7649.000000   \n",
       "mean   4707.302915  9.774524e+12                1990.129167        3.994470   \n",
       "std    2890.277089  2.429361e+11                  46.225576        0.250833   \n",
       "min       1.000000  1.951703e+08                1308.000000        2.470000   \n",
       "25%    2161.000000  9.780316e+12                1990.000000        3.840000   \n",
       "50%    4582.000000  9.780451e+12                2004.000000        4.010000   \n",
       "75%    7154.000000  9.780812e+12                2010.000000        4.170000   \n",
       "max    9999.000000  9.790008e+12                2017.000000        4.820000   \n",
       "\n",
       "       ratings_count        score  \n",
       "count   7.649000e+03  7649.000000  \n",
       "mean    6.200599e+04     3.997803  \n",
       "std     1.772387e+05     0.174395  \n",
       "min     2.773000e+03     2.790401  \n",
       "25%     1.432700e+04     3.894867  \n",
       "50%     2.302300e+04     4.004401  \n",
       "75%     4.673100e+04     4.111017  \n",
       "max     4.780653e+06     4.699789  "
      ]
     },
     "execution_count": 69,
     "metadata": {},
     "output_type": "execute_result"
    }
   ],
   "source": [
    "df1.describe()"
   ]
  },
  {
   "cell_type": "code",
   "execution_count": 55,
   "metadata": {},
   "outputs": [],
   "source": [
    "df1.loc[(df1.original_publication_year<1000),'original_publication_year']=np.nan\n",
    "df1=df1.dropna()\n"
   ]
  },
  {
   "cell_type": "code",
   "execution_count": 56,
   "metadata": {},
   "outputs": [
    {
     "name": "stdout",
     "output_type": "stream",
     "text": [
      "3.9944698653418746\n"
     ]
    },
    {
     "data": {
      "text/plain": [
       "10835.0"
      ]
     },
     "execution_count": 56,
     "metadata": {},
     "output_type": "execute_result"
    }
   ],
   "source": [
    "C=df1['average_rating'].mean()\n",
    "print(C)\n",
    "m=df1['ratings_count'].quantile(0.1)\n",
    "m"
   ]
  },
  {
   "cell_type": "code",
   "execution_count": 57,
   "metadata": {},
   "outputs": [],
   "source": [
    "def WR(x):\n",
    "    v=x['ratings_count']\n",
    "    R=x['average_rating']\n",
    "    return (v/(v+m)*R) + (m/(m+v)*C)"
   ]
  },
  {
   "cell_type": "code",
   "execution_count": 58,
   "metadata": {},
   "outputs": [
    {
     "data": {
      "text/html": [
       "<div>\n",
       "<style scoped>\n",
       "    .dataframe tbody tr th:only-of-type {\n",
       "        vertical-align: middle;\n",
       "    }\n",
       "\n",
       "    .dataframe tbody tr th {\n",
       "        vertical-align: top;\n",
       "    }\n",
       "\n",
       "    .dataframe thead th {\n",
       "        text-align: right;\n",
       "    }\n",
       "</style>\n",
       "<table border=\"1\" class=\"dataframe\">\n",
       "  <thead>\n",
       "    <tr style=\"text-align: right;\">\n",
       "      <th></th>\n",
       "      <th>book_id</th>\n",
       "      <th>isbn13</th>\n",
       "      <th>original_publication_year</th>\n",
       "      <th>average_rating</th>\n",
       "      <th>ratings_count</th>\n",
       "      <th>score</th>\n",
       "    </tr>\n",
       "  </thead>\n",
       "  <tbody>\n",
       "    <tr>\n",
       "      <th>count</th>\n",
       "      <td>7649.000000</td>\n",
       "      <td>7.649000e+03</td>\n",
       "      <td>7649.000000</td>\n",
       "      <td>7649.000000</td>\n",
       "      <td>7.649000e+03</td>\n",
       "      <td>7649.000000</td>\n",
       "    </tr>\n",
       "    <tr>\n",
       "      <th>mean</th>\n",
       "      <td>4707.302915</td>\n",
       "      <td>9.774524e+12</td>\n",
       "      <td>1990.129167</td>\n",
       "      <td>3.994470</td>\n",
       "      <td>6.200599e+04</td>\n",
       "      <td>3.997803</td>\n",
       "    </tr>\n",
       "    <tr>\n",
       "      <th>std</th>\n",
       "      <td>2890.277089</td>\n",
       "      <td>2.429361e+11</td>\n",
       "      <td>46.225576</td>\n",
       "      <td>0.250833</td>\n",
       "      <td>1.772387e+05</td>\n",
       "      <td>0.174395</td>\n",
       "    </tr>\n",
       "    <tr>\n",
       "      <th>min</th>\n",
       "      <td>1.000000</td>\n",
       "      <td>1.951703e+08</td>\n",
       "      <td>1308.000000</td>\n",
       "      <td>2.470000</td>\n",
       "      <td>2.773000e+03</td>\n",
       "      <td>2.790401</td>\n",
       "    </tr>\n",
       "    <tr>\n",
       "      <th>25%</th>\n",
       "      <td>2161.000000</td>\n",
       "      <td>9.780316e+12</td>\n",
       "      <td>1990.000000</td>\n",
       "      <td>3.840000</td>\n",
       "      <td>1.432700e+04</td>\n",
       "      <td>3.894867</td>\n",
       "    </tr>\n",
       "    <tr>\n",
       "      <th>50%</th>\n",
       "      <td>4582.000000</td>\n",
       "      <td>9.780451e+12</td>\n",
       "      <td>2004.000000</td>\n",
       "      <td>4.010000</td>\n",
       "      <td>2.302300e+04</td>\n",
       "      <td>4.004401</td>\n",
       "    </tr>\n",
       "    <tr>\n",
       "      <th>75%</th>\n",
       "      <td>7154.000000</td>\n",
       "      <td>9.780812e+12</td>\n",
       "      <td>2010.000000</td>\n",
       "      <td>4.170000</td>\n",
       "      <td>4.673100e+04</td>\n",
       "      <td>4.111017</td>\n",
       "    </tr>\n",
       "    <tr>\n",
       "      <th>max</th>\n",
       "      <td>9999.000000</td>\n",
       "      <td>9.790008e+12</td>\n",
       "      <td>2017.000000</td>\n",
       "      <td>4.820000</td>\n",
       "      <td>4.780653e+06</td>\n",
       "      <td>4.699789</td>\n",
       "    </tr>\n",
       "  </tbody>\n",
       "</table>\n",
       "</div>"
      ],
      "text/plain": [
       "           book_id        isbn13  original_publication_year  average_rating  \\\n",
       "count  7649.000000  7.649000e+03                7649.000000     7649.000000   \n",
       "mean   4707.302915  9.774524e+12                1990.129167        3.994470   \n",
       "std    2890.277089  2.429361e+11                  46.225576        0.250833   \n",
       "min       1.000000  1.951703e+08                1308.000000        2.470000   \n",
       "25%    2161.000000  9.780316e+12                1990.000000        3.840000   \n",
       "50%    4582.000000  9.780451e+12                2004.000000        4.010000   \n",
       "75%    7154.000000  9.780812e+12                2010.000000        4.170000   \n",
       "max    9999.000000  9.790008e+12                2017.000000        4.820000   \n",
       "\n",
       "       ratings_count        score  \n",
       "count   7.649000e+03  7649.000000  \n",
       "mean    6.200599e+04     3.997803  \n",
       "std     1.772387e+05     0.174395  \n",
       "min     2.773000e+03     2.790401  \n",
       "25%     1.432700e+04     3.894867  \n",
       "50%     2.302300e+04     4.004401  \n",
       "75%     4.673100e+04     4.111017  \n",
       "max     4.780653e+06     4.699789  "
      ]
     },
     "execution_count": 58,
     "metadata": {},
     "output_type": "execute_result"
    }
   ],
   "source": [
    "df1['score'] = df1.apply(WR,axis=1)\n",
    "df1.describe()"
   ]
  },
  {
   "cell_type": "code",
   "execution_count": null,
   "metadata": {},
   "outputs": [],
   "source": []
  },
  {
   "cell_type": "code",
   "execution_count": 59,
   "metadata": {},
   "outputs": [],
   "source": [
    "def lng(x,str1):\n",
    "    if (x['language_code'] == str1):\n",
    "        return x"
   ]
  },
  {
   "cell_type": "code",
   "execution_count": 60,
   "metadata": {},
   "outputs": [],
   "source": [
    "def clean_data(x):\n",
    "    if isinstance(x, str):\n",
    "        return str.lower(x.replace(\" \", \"\"))\n",
    "    else:\n",
    "        return ''"
   ]
  },
  {
   "cell_type": "code",
   "execution_count": null,
   "metadata": {},
   "outputs": [],
   "source": []
  },
  {
   "cell_type": "code",
   "execution_count": 61,
   "metadata": {},
   "outputs": [],
   "source": [
    "df1['authors'] = df1['authors'].apply(clean_data)"
   ]
  },
  {
   "cell_type": "code",
   "execution_count": null,
   "metadata": {},
   "outputs": [],
   "source": []
  },
  {
   "cell_type": "code",
   "execution_count": 62,
   "metadata": {},
   "outputs": [],
   "source": [
    "def create_soup(x):\n",
    "    return ' ' + x['authors'] + ' ' +  x['description']\n",
    "df1['soup'] = df1.apply(create_soup, axis=1)"
   ]
  },
  {
   "cell_type": "code",
   "execution_count": null,
   "metadata": {},
   "outputs": [],
   "source": []
  },
  {
   "cell_type": "code",
   "execution_count": null,
   "metadata": {},
   "outputs": [],
   "source": [
    "    \n"
   ]
  },
  {
   "cell_type": "code",
   "execution_count": 63,
   "metadata": {},
   "outputs": [
    {
     "data": {
      "text/plain": [
       "count    7649.000000\n",
       "mean     1990.129167\n",
       "std        46.225576\n",
       "min      1308.000000\n",
       "25%      1990.000000\n",
       "50%      2004.000000\n",
       "75%      2010.000000\n",
       "max      2017.000000\n",
       "Name: original_publication_year, dtype: float64"
      ]
     },
     "execution_count": 63,
     "metadata": {},
     "output_type": "execute_result"
    }
   ],
   "source": [
    "df1['original_publication_year'].describe()"
   ]
  },
  {
   "cell_type": "code",
   "execution_count": 64,
   "metadata": {},
   "outputs": [],
   "source": [
    "#df1 = df1.reset_index()\n",
    "#indices = pd.Series(df1.index, index=df1['original_title'])"
   ]
  },
  {
   "cell_type": "code",
   "execution_count": 65,
   "metadata": {},
   "outputs": [
    {
     "data": {
      "text/html": [
       "<div>\n",
       "<style scoped>\n",
       "    .dataframe tbody tr th:only-of-type {\n",
       "        vertical-align: middle;\n",
       "    }\n",
       "\n",
       "    .dataframe tbody tr th {\n",
       "        vertical-align: top;\n",
       "    }\n",
       "\n",
       "    .dataframe thead th {\n",
       "        text-align: right;\n",
       "    }\n",
       "</style>\n",
       "<table border=\"1\" class=\"dataframe\">\n",
       "  <thead>\n",
       "    <tr style=\"text-align: right;\">\n",
       "      <th></th>\n",
       "      <th>book_id</th>\n",
       "      <th>isbn</th>\n",
       "      <th>isbn13</th>\n",
       "      <th>authors</th>\n",
       "      <th>original_publication_year</th>\n",
       "      <th>original_title</th>\n",
       "      <th>language_code</th>\n",
       "      <th>average_rating</th>\n",
       "      <th>ratings_count</th>\n",
       "      <th>description</th>\n",
       "      <th>score</th>\n",
       "      <th>soup</th>\n",
       "    </tr>\n",
       "  </thead>\n",
       "  <tbody>\n",
       "    <tr>\n",
       "      <th>0</th>\n",
       "      <td>1</td>\n",
       "      <td>439023483</td>\n",
       "      <td>9.780439e+12</td>\n",
       "      <td>suzannecollins</td>\n",
       "      <td>2008.0</td>\n",
       "      <td>The Hunger Games</td>\n",
       "      <td>eng</td>\n",
       "      <td>4.34</td>\n",
       "      <td>4780653</td>\n",
       "      <td>Winning will make you famous. Losing means cer...</td>\n",
       "      <td>4.339219</td>\n",
       "      <td>suzannecollins Winning will make you famous. ...</td>\n",
       "    </tr>\n",
       "    <tr>\n",
       "      <th>1</th>\n",
       "      <td>2</td>\n",
       "      <td>439554934</td>\n",
       "      <td>9.780440e+12</td>\n",
       "      <td>j.k.rowling,marygrandpré</td>\n",
       "      <td>1997.0</td>\n",
       "      <td>Harry Potter and the Philosopher's Stone</td>\n",
       "      <td>eng</td>\n",
       "      <td>4.44</td>\n",
       "      <td>4602479</td>\n",
       "      <td>Harry Potter's life is miserable. His parents ...</td>\n",
       "      <td>4.438954</td>\n",
       "      <td>j.k.rowling,marygrandpré Harry Potter's life ...</td>\n",
       "    </tr>\n",
       "    <tr>\n",
       "      <th>2</th>\n",
       "      <td>3</td>\n",
       "      <td>316015849</td>\n",
       "      <td>9.780316e+12</td>\n",
       "      <td>stepheniemeyer</td>\n",
       "      <td>2005.0</td>\n",
       "      <td>Twilight</td>\n",
       "      <td>en-US</td>\n",
       "      <td>3.57</td>\n",
       "      <td>3866839</td>\n",
       "      <td>About three things I was absolutely positive.F...</td>\n",
       "      <td>3.571186</td>\n",
       "      <td>stepheniemeyer About three things I was absol...</td>\n",
       "    </tr>\n",
       "    <tr>\n",
       "      <th>3</th>\n",
       "      <td>4</td>\n",
       "      <td>61120081</td>\n",
       "      <td>9.780061e+12</td>\n",
       "      <td>harperlee</td>\n",
       "      <td>1960.0</td>\n",
       "      <td>To Kill a Mockingbird</td>\n",
       "      <td>eng</td>\n",
       "      <td>4.25</td>\n",
       "      <td>3198671</td>\n",
       "      <td>The unforgettable novel of a childhood in a sl...</td>\n",
       "      <td>4.249137</td>\n",
       "      <td>harperlee The unforgettable novel of a childh...</td>\n",
       "    </tr>\n",
       "    <tr>\n",
       "      <th>4</th>\n",
       "      <td>5</td>\n",
       "      <td>743273567</td>\n",
       "      <td>9.780743e+12</td>\n",
       "      <td>f.scottfitzgerald</td>\n",
       "      <td>1925.0</td>\n",
       "      <td>The Great Gatsby</td>\n",
       "      <td>eng</td>\n",
       "      <td>3.89</td>\n",
       "      <td>2683664</td>\n",
       "      <td>THE GREAT GATSBY, F. Scott Fitzgerald’s third ...</td>\n",
       "      <td>3.890420</td>\n",
       "      <td>f.scottfitzgerald THE GREAT GATSBY, F. Scott ...</td>\n",
       "    </tr>\n",
       "  </tbody>\n",
       "</table>\n",
       "</div>"
      ],
      "text/plain": [
       "   book_id       isbn        isbn13                   authors  \\\n",
       "0        1  439023483  9.780439e+12            suzannecollins   \n",
       "1        2  439554934  9.780440e+12  j.k.rowling,marygrandpré   \n",
       "2        3  316015849  9.780316e+12            stepheniemeyer   \n",
       "3        4   61120081  9.780061e+12                 harperlee   \n",
       "4        5  743273567  9.780743e+12         f.scottfitzgerald   \n",
       "\n",
       "   original_publication_year                            original_title  \\\n",
       "0                     2008.0                          The Hunger Games   \n",
       "1                     1997.0  Harry Potter and the Philosopher's Stone   \n",
       "2                     2005.0                                  Twilight   \n",
       "3                     1960.0                     To Kill a Mockingbird   \n",
       "4                     1925.0                          The Great Gatsby   \n",
       "\n",
       "  language_code  average_rating  ratings_count  \\\n",
       "0           eng            4.34        4780653   \n",
       "1           eng            4.44        4602479   \n",
       "2         en-US            3.57        3866839   \n",
       "3           eng            4.25        3198671   \n",
       "4           eng            3.89        2683664   \n",
       "\n",
       "                                         description     score  \\\n",
       "0  Winning will make you famous. Losing means cer...  4.339219   \n",
       "1  Harry Potter's life is miserable. His parents ...  4.438954   \n",
       "2  About three things I was absolutely positive.F...  3.571186   \n",
       "3  The unforgettable novel of a childhood in a sl...  4.249137   \n",
       "4  THE GREAT GATSBY, F. Scott Fitzgerald’s third ...  3.890420   \n",
       "\n",
       "                                                soup  \n",
       "0   suzannecollins Winning will make you famous. ...  \n",
       "1   j.k.rowling,marygrandpré Harry Potter's life ...  \n",
       "2   stepheniemeyer About three things I was absol...  \n",
       "3   harperlee The unforgettable novel of a childh...  \n",
       "4   f.scottfitzgerald THE GREAT GATSBY, F. Scott ...  "
      ]
     },
     "execution_count": 65,
     "metadata": {},
     "output_type": "execute_result"
    }
   ],
   "source": [
    "df1.head(5)"
   ]
  },
  {
   "cell_type": "code",
   "execution_count": 66,
   "metadata": {},
   "outputs": [
    {
     "data": {
      "text/plain": [
       "(7649, 12)"
      ]
     },
     "execution_count": 66,
     "metadata": {},
     "output_type": "execute_result"
    }
   ],
   "source": [
    "df1.shape"
   ]
  },
  {
   "cell_type": "code",
   "execution_count": null,
   "metadata": {},
   "outputs": [],
   "source": []
  },
  {
   "cell_type": "code",
   "execution_count": 67,
   "metadata": {},
   "outputs": [],
   "source": [
    "def get_recommendations(titles):\n",
    "    # Get the index of the movie that matches the title\n",
    "    df3=df1\n",
    "    scr=5\n",
    "    df2=pd.DataFrame()\n",
    "    all_titles=\"\"\n",
    "    all_soup=\"\"\n",
    "    for title in titles:\n",
    "        lang=df1['language_code'][df1.original_title == title].values[0]\n",
    "                ##################### CONCATENATION DONE#################################################\n",
    "        df2=df2.append(df3[df3.language_code == lang])\n",
    "        df3=df3[df3.language_code !=lang]\n",
    "        scr_temp=int(df1['score'][df1.original_title == title].values[0])\n",
    "        all_titles+=title+\" \"\n",
    "        all_soup+=df1.loc[(df1.original_title==title),'soup'].values[0] + \" \"\n",
    "        if(scr_temp<scr):\n",
    "            scr=scr_temp\n",
    "    scr=scr - 0.5\n",
    "    df2=df2[df2.score>scr]\n",
    "    print\n",
    "    for title in titles:\n",
    "        i = df2[(df2.original_title==title)].index.values[0]\n",
    "        df2 = df2.drop(i)\n",
    "    df2 = df2.append({'book_id':0000, 'authors':'not required', 'original_publication_year':20, 'original_title':all_titles,\n",
    "       'title':all_titles, 'language_code':lang, 'average_rating':0, 'ratings_count':0000,'score':scr,'soup':all_soup} , ignore_index=True)\n",
    "    count_matrix = count.fit_transform(df2['soup'])\n",
    "    cosine_sim2 = cosine_similarity(count_matrix, count_matrix)\n",
    "    df2 = df2.reset_index()\n",
    "    indices = pd.Series(df2.index, index=df2['original_title'])\n",
    "    idx = indices[all_titles]\n",
    "    # Get the pairwsie similarity scores of all movies with that movie\n",
    "    #C_M(lang)\n",
    "    sim_scores = list(enumerate(cosine_sim2[idx]))\n",
    "    # Sort the movies based on the similarity scores\n",
    "    sim_scores = sorted(sim_scores, key=lambda x: x[1], reverse=True)\n",
    "    # Get the scores of the 10 most similar movies\n",
    "    sim_scores = sim_scores[1:11]\n",
    "    #print(sim_scores)\n",
    "    # Get the movie indices\n",
    "    movie_indices = [i[0] for i in sim_scores]\n",
    "    # Return the top 10 most similar movies\n",
    "    return df2['original_title'].iloc[movie_indices].values"
   ]
  },
  {
   "cell_type": "code",
   "execution_count": 68,
   "metadata": {},
   "outputs": [
    {
     "name": "stdout",
     "output_type": "stream",
     "text": [
      "Here you go\n",
      "That Old Cape Magic\n",
      "Prince of Thorns\n",
      "The Crossing \n",
      "The Wolf Gift\n",
      "Shantaram\n",
      "Captain Blood: His Odyssey\n",
      "Tigers in Red Weather\n",
      "Thomas Jefferson: The Art of Power\n",
      "Matterhorn: A Novel of the Vietnam War\n",
      "Anathem\n"
     ]
    }
   ],
   "source": [
    "z=(get_recommendations(['Gone Girl']))\n",
    "print('Here you go')\n",
    "for a in z:\n",
    "    print(a)"
   ]
  },
  {
   "cell_type": "code",
   "execution_count": 31,
   "metadata": {},
   "outputs": [
    {
     "name": "stdout",
     "output_type": "stream",
     "text": [
      "[(5900, 0.9999999999999998), (168, 0.7071067811865475), (1430, 0.7071067811865475), (5582, 0.1414213562373095), (0, 0.0), (1, 0.0), (2, 0.0), (3, 0.0), (4, 0.0), (5, 0.0), (6, 0.0)]\n"
     ]
    },
    {
     "data": {
      "text/plain": [
       "5900            Gone Girl To Kill a Mockingbird \n",
       "168                                  Dark Places\n",
       "1430                             What Do You Do?\n",
       "5582                                      Rogues\n",
       "0                               The Hunger Games\n",
       "1       Harry Potter and the Philosopher's Stone\n",
       "2                               The Great Gatsby\n",
       "3                         The Fault in Our Stars\n",
       "4                         The Catcher in the Rye\n",
       "5                            Pride and Prejudice\n",
       "6                               The Kite Runner \n",
       "Name: original_title, dtype: object"
      ]
     },
     "execution_count": 31,
     "metadata": {},
     "output_type": "execute_result"
    }
   ],
   "source": [
    "get_recommendations(['Gone Girl','Dark Places'])"
   ]
  },
  {
   "cell_type": "code",
   "execution_count": null,
   "metadata": {},
   "outputs": [],
   "source": []
  },
  {
   "cell_type": "code",
   "execution_count": null,
   "metadata": {},
   "outputs": [],
   "source": []
  }
 ],
 "metadata": {
  "kernelspec": {
   "display_name": "Python 3",
   "language": "python",
   "name": "python3"
  },
  "language_info": {
   "codemirror_mode": {
    "name": "ipython",
    "version": 3
   },
   "file_extension": ".py",
   "mimetype": "text/x-python",
   "name": "python",
   "nbconvert_exporter": "python",
   "pygments_lexer": "ipython3",
   "version": "3.7.3"
  }
 },
 "nbformat": 4,
 "nbformat_minor": 2
}
